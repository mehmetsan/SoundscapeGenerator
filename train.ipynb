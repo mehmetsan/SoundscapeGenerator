{
 "cells": [
  {
   "cell_type": "code",
   "execution_count": null,
   "outputs": [],
   "source": [
    "import os\n",
    "\n",
    "import torch\n",
    "import wandb\n",
    "import torch.nn as nn\n",
    "from env_variables import model_save_path\n",
    "from utils.riffusion_pipeline import RiffusionPipeline\n",
    "from torch.utils.data import DataLoader\n",
    "from torchvision import datasets, transforms\n",
    "from PIL import ImageFile"
   ],
   "metadata": {
    "collapsed": false
   },
   "id": "423264d95d4e48c9"
  },
  {
   "cell_type": "code",
   "execution_count": null,
   "outputs": [],
   "source": [
    "ImageFile.LOAD_TRUNCATED_IMAGES = True\n",
    "# Set the device to CUDA if available\n",
    "device = torch.device(\"cuda\" if torch.cuda.is_available() else \"cpu\")"
   ],
   "metadata": {
    "collapsed": false
   },
   "id": "99137e739bc1290a"
  },
  {
   "cell_type": "code",
   "execution_count": null,
   "outputs": [],
   "source": [
    "class EmotionEmbedding(nn.Module):\n",
    "    def __init__(self, num_classes=12, embedding_dim=768):\n",
    "        super(EmotionEmbedding, self).__init__()\n",
    "        self.embedding = nn.Embedding(num_classes, embedding_dim)\n",
    "\n",
    "    def forward(self, labels):\n",
    "        return self.embedding(labels)\n",
    "\n",
    "# Custom dataset to handle corrupted images\n",
    "class SafeImageFolder(datasets.ImageFolder):\n",
    "    def __getitem__(self, index):\n",
    "        try:\n",
    "            return super(SafeImageFolder, self).__getitem__(index)\n",
    "        except (OSError, IOError) as e:\n",
    "            print(f\"Skipping corrupted image at index {index}: {e}\")\n",
    "            return None\n",
    "\n",
    "# Add an extra channel\n",
    "def add_extra_channel(images):\n",
    "    extra_channel = torch.zeros(images.size(0), 1, images.size(2), images.size(3), device=images.device)\n",
    "    return torch.cat((images, extra_channel), dim=1)\n",
    "\n",
    "def collate_fn(batch):\n",
    "    batch = list(filter(lambda x: x is not None, batch))  # Filter out None entries\n",
    "    if len(batch) == 0:\n",
    "        return None\n",
    "    return torch.utils.data.dataloader.default_collate(batch)\n",
    "\n",
    "# Define transformations\n",
    "transform = transforms.Compose([\n",
    "    transforms.Pad((0, 0, 11, 0)),\n",
    "    transforms.Resize((320, 320)),\n",
    "    transforms.ToTensor(),\n",
    "])"
   ],
   "metadata": {
    "collapsed": false
   },
   "id": "7d153c081a87a9a4"
  },
  {
   "cell_type": "code",
   "execution_count": null,
   "outputs": [],
   "source": [
    "# Initialize WandB\n",
    "try:\n",
    "    wandb.login(key=\"0cab68fc9cc47efc6cdc61d3d97537d8690e0379\")\n",
    "    run = wandb.init(project=\"SoundscapeGenerator\")\n",
    "except Exception as e:\n",
    "    raise Exception(f\"Wandb login failed due to {e}\")"
   ],
   "metadata": {
    "collapsed": false
   },
   "id": "f2a9d73d51cd1975"
  },
  {
   "cell_type": "code",
   "execution_count": null,
   "outputs": [],
   "source": [
    "BATCH_SIZE = 1\n",
    "\n",
    "# Load dataset with SafeImageFolder to handle corrupted images\n",
    "dataset = SafeImageFolder(root='categorized_spectrograms', transform=transform)"
   ],
   "metadata": {
    "collapsed": false
   },
   "id": "5c107036d2a8412f"
  },
  {
   "cell_type": "code",
   "execution_count": null,
   "outputs": [],
   "source": [
    "dataloader = DataLoader(dataset, batch_size=BATCH_SIZE, shuffle=True, collate_fn=collate_fn)\n",
    "\n",
    "# Load the RiffusionPipeline\n",
    "pipeline = RiffusionPipeline.from_pretrained(pretrained_model_name_or_path=\"riffusion/riffusion-model-v1\",\n",
    "                                             resume_download=True)\n",
    "unet = pipeline.unet\n",
    "unet.to(device)  # Move the model to GPU\n",
    "\n",
    "# Define optimizer and loss function\n",
    "optimizer = torch.optim.AdamW(unet.parameters(), lr=5e-5)\n",
    "criterion = nn.MSELoss()\n",
    "\n",
    "# Emotion embedding layer\n",
    "emotion_embedding_layer = EmotionEmbedding(num_classes=12).to(device)\n",
    "\n",
    "# Training loop\n",
    "num_epochs = 1\n",
    "total_batches = len(dataloader)\n",
    "\n",
    "scaler = torch.cuda.amp.GradScaler()\n",
    "accumulation_steps = 2"
   ],
   "metadata": {
    "collapsed": false
   },
   "id": "bd892ff193434829"
  },
  {
   "cell_type": "code",
   "execution_count": null,
   "outputs": [],
   "source": [
    "for epoch in range(num_epochs):\n",
    "    print(f\"Epoch: {epoch}\")\n",
    "    unet.train()  # Set the model to training mode\n",
    "    running_loss = 0.0\n",
    "\n",
    "    for batch_idx, batch in enumerate(dataloader):\n",
    "        if batch is None:\n",
    "            continue  # Skip the batch if it was filtered out due to corrupted images\n",
    "        images, labels = batch\n",
    "\n",
    "        # Move the batch to the GPU\n",
    "        images = images.to(device)\n",
    "        labels = labels.to(device)\n",
    "\n",
    "        # Add the extra channel\n",
    "        images = add_extra_channel(images)\n",
    "\n",
    "        # Generate the timesteps and encoder hidden states\n",
    "        timesteps = torch.randint(0, 1000, (images.size(0),), device=device).long()\n",
    "        encoder_hidden_states = torch.randn(images.size(0), 1, 768, device=device)\n",
    "\n",
    "        # Get emotion embeddings and concatenate with encoder hidden states\n",
    "        emotion_embedding = emotion_embedding_layer(labels)\n",
    "        encoder_hidden_states_with_emotion = encoder_hidden_states + emotion_embedding.unsqueeze(1)\n",
    "\n",
    "        # Zero the gradients\n",
    "        optimizer.zero_grad()\n",
    "\n",
    "        with torch.cuda.amp.autocast():\n",
    "            # Forward pass\n",
    "            outputs = unet(images, timesteps, encoder_hidden_states_with_emotion).sample\n",
    "            # Compute the loss (denoising loss)\n",
    "            loss = criterion(outputs, images)\n",
    "\n",
    "        scaler.scale(loss).backward()\n",
    "        scaler.step(optimizer)\n",
    "        scaler.update()\n",
    "\n",
    "        # Backward pass and optimization\n",
    "        if (batch_idx + 1) % accumulation_steps == 0:\n",
    "            optimizer.step()\n",
    "            optimizer.zero_grad()  # Clear gradients after updating\n",
    "\n",
    "        # Log loss with WandB\n",
    "        wandb.log({\"loss\": loss.item()})\n",
    "\n",
    "        running_loss += loss.item()\n",
    "\n",
    "        # Print the current batch number and total batches\n",
    "        print(f\"Batch {batch_idx + 1}/{total_batches}, Loss: {loss.item()}\")\n",
    "\n",
    "        # Clear cached memory to avoid OOM\n",
    "        torch.cuda.empty_cache()\n",
    "\n",
    "    # Print the average loss for this epoch\n",
    "    print(f\"Epoch {epoch + 1}/{num_epochs}, Loss: {running_loss / len(dataloader)}\")"
   ],
   "metadata": {
    "collapsed": false
   },
   "id": "882f110861d3982c"
  },
  {
   "cell_type": "code",
   "execution_count": null,
   "outputs": [],
   "source": [
    "os.makedirs(model_save_path, exist_ok=True)\n",
    "# Save the trained model\n",
    "try:\n",
    "    unet.save_pretrained(model_save_path)\n",
    "    print(\"saved\")\n",
    "    torch.save(unet.state_dict(), os.path.join(model_save_path, 'unet_fine_tuned.pth'))\n",
    "    print(\"saved again\")\n",
    "\n",
    "    try:\n",
    "        unet.save_pretrained(\"./saved\")\n",
    "    except Exception as e:\n",
    "        print(f\"Couldn't save in server because {e}\")\n",
    "\n",
    "except Exception as e:\n",
    "    print(f\"There was an error during saving the model: {e}\")\n",
    "    # Save the model using torch.save()\n",
    "    try:\n",
    "        torch.save(unet.state_dict(), os.path.join(model_save_path, 'unet_fine_tuned.pth'))\n",
    "    except Exception as e:\n",
    "        print(f\"Trying alternate saving failed due to {e}\")\n"
   ],
   "metadata": {
    "collapsed": false
   },
   "id": "58e55604b920c7ba"
  },
  {
   "cell_type": "code",
   "execution_count": null,
   "outputs": [],
   "source": [
    "try:\n",
    "    artifact = wandb.Artifact(\"riffusion_fine_tuned\", type=\"model\")\n",
    "    artifact.add_file(model_save_path)\n",
    "    run.log_artifact(artifact)\n",
    "except Exception as e:\n",
    "    print(f\"Couldn't send to wandb due to: {e}\")"
   ],
   "metadata": {
    "collapsed": false
   },
   "id": "6c3891c0c067736e"
  }
 ],
 "metadata": {
  "kernelspec": {
   "display_name": "Python 3",
   "language": "python",
   "name": "python3"
  },
  "language_info": {
   "codemirror_mode": {
    "name": "ipython",
    "version": 2
   },
   "file_extension": ".py",
   "mimetype": "text/x-python",
   "name": "python",
   "nbconvert_exporter": "python",
   "pygments_lexer": "ipython2",
   "version": "2.7.6"
  }
 },
 "nbformat": 4,
 "nbformat_minor": 5
}
